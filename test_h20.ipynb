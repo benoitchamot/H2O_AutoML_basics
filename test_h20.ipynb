{
 "cells": [
  {
   "cell_type": "markdown",
   "metadata": {},
   "source": [
    "# (Very) Basic H2O Demonstration\n",
    "## Purpose\n",
    "This notebook is my first test of the H20 Python API used to interact with an H2O server for automated machine learning (AutoML). The goal is to understand the approach and the functions used in the process. No attempt is made at this stage to check the results for the models generated: the main goal is to have everything running without errors.\n",
    "\n",
    "A lot of information and code here is repeated from the [H2O online documentation](https://h2o-release.s3.amazonaws.com/h2o/rel-3.46.0/4/docs-website/h2o-py/docs/intro.html#installing-h2o-3). Some differences include the use of HuggingFace `datasets` used to download a dataset and prepare it using pandas before converting it into an H2O frame. Note that H2O can also work with datasets that are already in the correct format and that can be retrieved using their own methods and functions."
   ]
  },
  {
   "cell_type": "markdown",
   "metadata": {
    "vscode": {
     "languageId": "shellscript"
    }
   },
   "source": [
    "## Preparing the environment\n",
    "The following commands are used to prepare the environment to run this notebook.\n",
    "```bash\n",
    "conda create --name h2o python=3.10\n",
    "conda activate h2o\n",
    "pip install https://h2o-release.s3.amazonaws.com/h2o/rel-3.46.0/4/Python/h2o-3.46.0.4-py2.py3-none-any.whl\n",
    "pip install datasets\n",
    "```\n",
    "\n",
    "Any additional ML and data manipulation libraries can of course be used too. Please note that some compatibility issues between H2O and other librariees have been observed. Read the output from the `pip install` commands for additional information and tweaking if necessary.\n",
    "\n",
    "H2O requires Java to run. Please install the latest recommended JRE on the [H2O website](http://docs.h2o.ai/h2o/latest-stable/h2o-docs/welcome.html#java-requirements)."
   ]
  },
  {
   "cell_type": "code",
   "execution_count": 72,
   "metadata": {},
   "outputs": [],
   "source": [
    "import numpy as np\n",
    "import h2o\n",
    "from h2o.automl import H2OAutoML\n",
    "from h2o.frame import H2OFrame\n",
    "import datasets\n",
    "import pandas as pd"
   ]
  },
  {
   "cell_type": "markdown",
   "metadata": {},
   "source": [
    "## Starting H2O and Inspecting the Cluster\n",
    "There are many tools for directly interacting with user-visible objects in the H2O cluster. Every new python session begins by initializing a connection between the python client and the H2O cluster. Note that h2o.init() accepts a number of arguments that are described in the h2o.init section."
   ]
  },
  {
   "cell_type": "code",
   "execution_count": 73,
   "metadata": {},
   "outputs": [
    {
     "name": "stdout",
     "output_type": "stream",
     "text": [
      "Checking whether there is an H2O instance running at http://localhost:54321..... not found.\n",
      "Attempting to start a local H2O server...\n",
      "; Java HotSpot(TM) 64-Bit Server VM (build 25.371-b11, mixed mode)\n",
      "  Starting server from C:\\Users\\User\\anaconda3\\envs\\h2o\\Lib\\site-packages\\h2o\\backend\\bin\\h2o.jar\n",
      "  Ice root: C:\\Users\\User\\AppData\\Local\\Temp\\tmpj8xlsr5c\n",
      "  JVM stdout: C:\\Users\\User\\AppData\\Local\\Temp\\tmpj8xlsr5c\\h2o_BC_started_from_python.out\n",
      "  JVM stderr: C:\\Users\\User\\AppData\\Local\\Temp\\tmpj8xlsr5c\\h2o_BC_started_from_python.err\n",
      "  Server is running at http://127.0.0.1:54321\n",
      "Connecting to H2O server at http://127.0.0.1:54321 ... successful.\n"
     ]
    },
    {
     "data": {
      "text/html": [
       "\n",
       "<style>\n",
       "\n",
       "#h2o-table-3.h2o-container {\n",
       "  overflow-x: auto;\n",
       "}\n",
       "#h2o-table-3 .h2o-table {\n",
       "  /* width: 100%; */\n",
       "  margin-top: 1em;\n",
       "  margin-bottom: 1em;\n",
       "}\n",
       "#h2o-table-3 .h2o-table caption {\n",
       "  white-space: nowrap;\n",
       "  caption-side: top;\n",
       "  text-align: left;\n",
       "  /* margin-left: 1em; */\n",
       "  margin: 0;\n",
       "  font-size: larger;\n",
       "}\n",
       "#h2o-table-3 .h2o-table thead {\n",
       "  white-space: nowrap; \n",
       "  position: sticky;\n",
       "  top: 0;\n",
       "  box-shadow: 0 -1px inset;\n",
       "}\n",
       "#h2o-table-3 .h2o-table tbody {\n",
       "  overflow: auto;\n",
       "}\n",
       "#h2o-table-3 .h2o-table th,\n",
       "#h2o-table-3 .h2o-table td {\n",
       "  text-align: right;\n",
       "  /* border: 1px solid; */\n",
       "}\n",
       "#h2o-table-3 .h2o-table tr:nth-child(even) {\n",
       "  /* background: #F5F5F5 */\n",
       "}\n",
       "\n",
       "</style>      \n",
       "<div id=\"h2o-table-3\" class=\"h2o-container\">\n",
       "  <table class=\"h2o-table\">\n",
       "    <caption></caption>\n",
       "    <thead></thead>\n",
       "    <tbody><tr><td>H2O_cluster_uptime:</td>\n",
       "<td>01 secs</td></tr>\n",
       "<tr><td>H2O_cluster_timezone:</td>\n",
       "<td>Australia/Sydney</td></tr>\n",
       "<tr><td>H2O_data_parsing_timezone:</td>\n",
       "<td>UTC</td></tr>\n",
       "<tr><td>H2O_cluster_version:</td>\n",
       "<td>3.46.0.4</td></tr>\n",
       "<tr><td>H2O_cluster_version_age:</td>\n",
       "<td>16 days</td></tr>\n",
       "<tr><td>H2O_cluster_name:</td>\n",
       "<td>H2O_from_python_BC_71x5j9</td></tr>\n",
       "<tr><td>H2O_cluster_total_nodes:</td>\n",
       "<td>1</td></tr>\n",
       "<tr><td>H2O_cluster_free_memory:</td>\n",
       "<td>3.531 Gb</td></tr>\n",
       "<tr><td>H2O_cluster_total_cores:</td>\n",
       "<td>12</td></tr>\n",
       "<tr><td>H2O_cluster_allowed_cores:</td>\n",
       "<td>12</td></tr>\n",
       "<tr><td>H2O_cluster_status:</td>\n",
       "<td>locked, healthy</td></tr>\n",
       "<tr><td>H2O_connection_url:</td>\n",
       "<td>http://127.0.0.1:54321</td></tr>\n",
       "<tr><td>H2O_connection_proxy:</td>\n",
       "<td>{\"http\": null, \"https\": null}</td></tr>\n",
       "<tr><td>H2O_internal_security:</td>\n",
       "<td>False</td></tr>\n",
       "<tr><td>Python_version:</td>\n",
       "<td>3.10.14 final</td></tr></tbody>\n",
       "  </table>\n",
       "</div>\n"
      ],
      "text/plain": [
       "--------------------------  -----------------------------\n",
       "H2O_cluster_uptime:         01 secs\n",
       "H2O_cluster_timezone:       Australia/Sydney\n",
       "H2O_data_parsing_timezone:  UTC\n",
       "H2O_cluster_version:        3.46.0.4\n",
       "H2O_cluster_version_age:    16 days\n",
       "H2O_cluster_name:           H2O_from_python_BC_71x5j9\n",
       "H2O_cluster_total_nodes:    1\n",
       "H2O_cluster_free_memory:    3.531 Gb\n",
       "H2O_cluster_total_cores:    12\n",
       "H2O_cluster_allowed_cores:  12\n",
       "H2O_cluster_status:         locked, healthy\n",
       "H2O_connection_url:         http://127.0.0.1:54321\n",
       "H2O_connection_proxy:       {\"http\": null, \"https\": null}\n",
       "H2O_internal_security:      False\n",
       "Python_version:             3.10.14 final\n",
       "--------------------------  -----------------------------"
      ]
     },
     "metadata": {},
     "output_type": "display_data"
    },
    {
     "name": "stderr",
     "output_type": "stream",
     "text": [
      "C:\\Users\\User\\AppData\\Local\\Temp\\ipykernel_30268\\1271611291.py:4: H2ODeprecationWarning: Deprecated, use ``h2o.cluster().show_status()``.\n",
      "  h2o.cluster_info()\n"
     ]
    },
    {
     "data": {
      "text/html": [
       "\n",
       "<style>\n",
       "\n",
       "#h2o-table-4.h2o-container {\n",
       "  overflow-x: auto;\n",
       "}\n",
       "#h2o-table-4 .h2o-table {\n",
       "  /* width: 100%; */\n",
       "  margin-top: 1em;\n",
       "  margin-bottom: 1em;\n",
       "}\n",
       "#h2o-table-4 .h2o-table caption {\n",
       "  white-space: nowrap;\n",
       "  caption-side: top;\n",
       "  text-align: left;\n",
       "  /* margin-left: 1em; */\n",
       "  margin: 0;\n",
       "  font-size: larger;\n",
       "}\n",
       "#h2o-table-4 .h2o-table thead {\n",
       "  white-space: nowrap; \n",
       "  position: sticky;\n",
       "  top: 0;\n",
       "  box-shadow: 0 -1px inset;\n",
       "}\n",
       "#h2o-table-4 .h2o-table tbody {\n",
       "  overflow: auto;\n",
       "}\n",
       "#h2o-table-4 .h2o-table th,\n",
       "#h2o-table-4 .h2o-table td {\n",
       "  text-align: right;\n",
       "  /* border: 1px solid; */\n",
       "}\n",
       "#h2o-table-4 .h2o-table tr:nth-child(even) {\n",
       "  /* background: #F5F5F5 */\n",
       "}\n",
       "\n",
       "</style>      \n",
       "<div id=\"h2o-table-4\" class=\"h2o-container\">\n",
       "  <table class=\"h2o-table\">\n",
       "    <caption></caption>\n",
       "    <thead></thead>\n",
       "    <tbody><tr><td>H2O_cluster_uptime:</td>\n",
       "<td>01 secs</td></tr>\n",
       "<tr><td>H2O_cluster_timezone:</td>\n",
       "<td>Australia/Sydney</td></tr>\n",
       "<tr><td>H2O_data_parsing_timezone:</td>\n",
       "<td>UTC</td></tr>\n",
       "<tr><td>H2O_cluster_version:</td>\n",
       "<td>3.46.0.4</td></tr>\n",
       "<tr><td>H2O_cluster_version_age:</td>\n",
       "<td>16 days</td></tr>\n",
       "<tr><td>H2O_cluster_name:</td>\n",
       "<td>H2O_from_python_BC_71x5j9</td></tr>\n",
       "<tr><td>H2O_cluster_total_nodes:</td>\n",
       "<td>1</td></tr>\n",
       "<tr><td>H2O_cluster_free_memory:</td>\n",
       "<td>3.531 Gb</td></tr>\n",
       "<tr><td>H2O_cluster_total_cores:</td>\n",
       "<td>12</td></tr>\n",
       "<tr><td>H2O_cluster_allowed_cores:</td>\n",
       "<td>12</td></tr>\n",
       "<tr><td>H2O_cluster_status:</td>\n",
       "<td>locked, healthy</td></tr>\n",
       "<tr><td>H2O_connection_url:</td>\n",
       "<td>http://127.0.0.1:54321</td></tr>\n",
       "<tr><td>H2O_connection_proxy:</td>\n",
       "<td>{\"http\": null, \"https\": null}</td></tr>\n",
       "<tr><td>H2O_internal_security:</td>\n",
       "<td>False</td></tr>\n",
       "<tr><td>Python_version:</td>\n",
       "<td>3.10.14 final</td></tr></tbody>\n",
       "  </table>\n",
       "</div>\n"
      ],
      "text/plain": [
       "--------------------------  -----------------------------\n",
       "H2O_cluster_uptime:         01 secs\n",
       "H2O_cluster_timezone:       Australia/Sydney\n",
       "H2O_data_parsing_timezone:  UTC\n",
       "H2O_cluster_version:        3.46.0.4\n",
       "H2O_cluster_version_age:    16 days\n",
       "H2O_cluster_name:           H2O_from_python_BC_71x5j9\n",
       "H2O_cluster_total_nodes:    1\n",
       "H2O_cluster_free_memory:    3.531 Gb\n",
       "H2O_cluster_total_cores:    12\n",
       "H2O_cluster_allowed_cores:  12\n",
       "H2O_cluster_status:         locked, healthy\n",
       "H2O_connection_url:         http://127.0.0.1:54321\n",
       "H2O_connection_proxy:       {\"http\": null, \"https\": null}\n",
       "H2O_internal_security:      False\n",
       "Python_version:             3.10.14 final\n",
       "--------------------------  -----------------------------"
      ]
     },
     "metadata": {},
     "output_type": "display_data"
    }
   ],
   "source": [
    "h2o.init()\n",
    "\n",
    "# After making a successful connection, you can obtain a high-level summary of the cluster status:\n",
    "h2o.cluster_info()"
   ]
  },
  {
   "cell_type": "code",
   "execution_count": 74,
   "metadata": {},
   "outputs": [
    {
     "name": "stderr",
     "output_type": "stream",
     "text": [
      "c:\\Users\\User\\anaconda3\\envs\\h2o\\lib\\site-packages\\h2o\\frame.py:1981: H2ODependencyWarning: Converting H2O frame to pandas dataframe using single-thread.  For faster conversion using multi-thread, install polars and pyarrow and use it as pandas_df = h2o_df.as_data_frame(use_multi_thread=True)\n",
      "\n",
      "  warnings.warn(\"Converting H2O frame to pandas dataframe using single-thread.  For faster conversion using\"\n"
     ]
    },
    {
     "data": {
      "text/html": [
       "<div>\n",
       "<style scoped>\n",
       "    .dataframe tbody tr th:only-of-type {\n",
       "        vertical-align: middle;\n",
       "    }\n",
       "\n",
       "    .dataframe tbody tr th {\n",
       "        vertical-align: top;\n",
       "    }\n",
       "\n",
       "    .dataframe thead th {\n",
       "        text-align: right;\n",
       "    }\n",
       "</style>\n",
       "<table border=\"1\" class=\"dataframe\">\n",
       "  <thead>\n",
       "    <tr style=\"text-align: right;\">\n",
       "      <th></th>\n",
       "      <th>key</th>\n",
       "    </tr>\n",
       "  </thead>\n",
       "  <tbody>\n",
       "  </tbody>\n",
       "</table>\n",
       "</div>"
      ],
      "text/plain": [
       "Empty DataFrame\n",
       "Columns: [key]\n",
       "Index: []"
      ]
     },
     "execution_count": 74,
     "metadata": {},
     "output_type": "execute_result"
    }
   ],
   "source": [
    "# To list the current contents of the H2O cluster, you can use the h2o.ls command:\n",
    "h2o.ls()"
   ]
  },
  {
   "cell_type": "markdown",
   "metadata": {},
   "source": [
    "## AutoML with H20\n",
    "Source: https://docs.h2o.ai/h2o/latest-stable/h2o-docs/automl.html"
   ]
  },
  {
   "cell_type": "markdown",
   "metadata": {},
   "source": [
    "## Load and prepare dataset"
   ]
  },
  {
   "cell_type": "markdown",
   "metadata": {},
   "source": [
    "### Load Palmer penguins dataset from HuggingFace"
   ]
  },
  {
   "cell_type": "code",
   "execution_count": 75,
   "metadata": {},
   "outputs": [],
   "source": [
    "# Import a sample binary outcome train/test set into H2O\n",
    "dataset = datasets.load_dataset(\"SIH/palmer-penguins\", split='train')"
   ]
  },
  {
   "cell_type": "markdown",
   "metadata": {},
   "source": [
    "### Manually split the dataset\n",
    "Note that a method such as `sklearn train_test_split` could of course be used here instead. It is however important to keep the label attached to the input DataFrame prior to converting it to an H20 frame."
   ]
  },
  {
   "cell_type": "code",
   "execution_count": 64,
   "metadata": {},
   "outputs": [],
   "source": [
    "dataset_df = pd.DataFrame(dataset)\n",
    "dataset_df['sex'] = dataset_df['sex'].apply(lambda x: 1 if x=='male' else 0)\n",
    "dataset_df = dataset_df.rename(columns={'sex': 'label'})\n",
    "\n",
    "# Identify predictors and response\n",
    "x = list(dataset_df.columns)\n",
    "y = \"label\"\n",
    "x.remove(y)\n",
    "\n",
    "# Training dataset is 80% of full dataset\n",
    "train_df = dataset_df.sample(int(.8*len(dataset_df)), random_state=42)\n",
    "\n",
    "# Test dataset is all rows (index) not in train dataset\n",
    "test_df = dataset_df.iloc[~dataset_df.index.isin(train.index)]"
   ]
  },
  {
   "cell_type": "markdown",
   "metadata": {},
   "source": [
    "### Convert the pandas DataFrames into H2O frames\n",
    "DataFrames can easily be converted into H2O frames using `h2o.H2OFrame`. The function also accepts dictionaries and numpy arrays but we've experienced issues with pd.Series."
   ]
  },
  {
   "cell_type": "code",
   "execution_count": 67,
   "metadata": {},
   "outputs": [
    {
     "name": "stdout",
     "output_type": "stream",
     "text": [
      "Parse progress: |████████████████████████████████████████████████████████████████| (done) 100%\n",
      "Parse progress: |████████████████████████████████████████████████████████████████| (done) 100%\n"
     ]
    }
   ],
   "source": [
    "# Convert to H2O frames\n",
    "train = H2OFrame(train_df)\n",
    "test = H2OFrame(test_df)\n",
    "\n",
    "# For binary classification, response should be a factor\n",
    "train[y] = train[y].asfactor()\n",
    "test[y] = test[y].asfactor()"
   ]
  },
  {
   "cell_type": "markdown",
   "metadata": {},
   "source": [
    "## Run H2O AutoML\n",
    "The basic commands to run the AutoML process are shown below. Note that this is a very simple demonstration and no further work is done at this point to check the results or comment on the models performance. See this notebook as more of a \"smoke test\" rather than a comprehensive demonstration."
   ]
  },
  {
   "cell_type": "code",
   "execution_count": 69,
   "metadata": {},
   "outputs": [
    {
     "name": "stdout",
     "output_type": "stream",
     "text": [
      "AutoML progress: |"
     ]
    },
    {
     "name": "stdout",
     "output_type": "stream",
     "text": [
      "\n",
      "09:20:40.77: AutoML: XGBoost is not available; skipping it.\n",
      "\n",
      "███████████████████████████████████████████████████████████████| (done) 100%\n"
     ]
    },
    {
     "data": {
      "text/html": [
       "<table class='dataframe'>\n",
       "<thead>\n",
       "<tr><th>model_id                                              </th><th style=\"text-align: right;\">     auc</th><th style=\"text-align: right;\">  logloss</th><th style=\"text-align: right;\">   aucpr</th><th style=\"text-align: right;\">  mean_per_class_error</th><th style=\"text-align: right;\">    rmse</th><th style=\"text-align: right;\">      mse</th></tr>\n",
       "</thead>\n",
       "<tbody>\n",
       "<tr><td>GBM_4_AutoML_2_20240726_92040                         </td><td style=\"text-align: right;\">0.976924</td><td style=\"text-align: right;\"> 0.192053</td><td style=\"text-align: right;\">0.973619</td><td style=\"text-align: right;\">             0.0617656</td><td style=\"text-align: right;\">0.236095</td><td style=\"text-align: right;\">0.0557409</td></tr>\n",
       "<tr><td>StackedEnsemble_BestOfFamily_1_AutoML_2_20240726_92040</td><td style=\"text-align: right;\">0.9765  </td><td style=\"text-align: right;\"> 0.192089</td><td style=\"text-align: right;\">0.972984</td><td style=\"text-align: right;\">             0.0584048</td><td style=\"text-align: right;\">0.234459</td><td style=\"text-align: right;\">0.0549712</td></tr>\n",
       "<tr><td>GBM_5_AutoML_2_20240726_92040                         </td><td style=\"text-align: right;\">0.976448</td><td style=\"text-align: right;\"> 0.194165</td><td style=\"text-align: right;\">0.973338</td><td style=\"text-align: right;\">             0.0692283</td><td style=\"text-align: right;\">0.238489</td><td style=\"text-align: right;\">0.0568772</td></tr>\n",
       "<tr><td>StackedEnsemble_AllModels_1_AutoML_2_20240726_92040   </td><td style=\"text-align: right;\">0.975124</td><td style=\"text-align: right;\"> 0.200834</td><td style=\"text-align: right;\">0.971997</td><td style=\"text-align: right;\">             0.0694136</td><td style=\"text-align: right;\">0.244187</td><td style=\"text-align: right;\">0.0596272</td></tr>\n",
       "<tr><td>GBM_grid_1_AutoML_2_20240726_92040_model_5            </td><td style=\"text-align: right;\">0.975124</td><td style=\"text-align: right;\"> 0.201927</td><td style=\"text-align: right;\">0.972457</td><td style=\"text-align: right;\">             0.0789404</td><td style=\"text-align: right;\">0.245279</td><td style=\"text-align: right;\">0.0601619</td></tr>\n",
       "<tr><td>GBM_2_AutoML_2_20240726_92040                         </td><td style=\"text-align: right;\">0.97306 </td><td style=\"text-align: right;\"> 0.206992</td><td style=\"text-align: right;\">0.969616</td><td style=\"text-align: right;\">             0.0727744</td><td style=\"text-align: right;\">0.244937</td><td style=\"text-align: right;\">0.0599941</td></tr>\n",
       "<tr><td>GBM_3_AutoML_2_20240726_92040                         </td><td style=\"text-align: right;\">0.97306 </td><td style=\"text-align: right;\"> 0.205731</td><td style=\"text-align: right;\">0.969072</td><td style=\"text-align: right;\">             0.0796814</td><td style=\"text-align: right;\">0.246748</td><td style=\"text-align: right;\">0.0608843</td></tr>\n",
       "<tr><td>GBM_grid_1_AutoML_2_20240726_92040_model_2            </td><td style=\"text-align: right;\">0.972584</td><td style=\"text-align: right;\"> 0.204478</td><td style=\"text-align: right;\">0.965924</td><td style=\"text-align: right;\">             0.0649413</td><td style=\"text-align: right;\">0.242204</td><td style=\"text-align: right;\">0.0586626</td></tr>\n",
       "<tr><td>GBM_grid_1_AutoML_2_20240726_92040_model_3            </td><td style=\"text-align: right;\">0.967079</td><td style=\"text-align: right;\"> 0.234733</td><td style=\"text-align: right;\">0.963294</td><td style=\"text-align: right;\">             0.0752091</td><td style=\"text-align: right;\">0.260505</td><td style=\"text-align: right;\">0.0678629</td></tr>\n",
       "<tr><td>GLM_1_AutoML_2_20240726_92040                         </td><td style=\"text-align: right;\">0.963745</td><td style=\"text-align: right;\"> 0.24765 </td><td style=\"text-align: right;\">0.948011</td><td style=\"text-align: right;\">             0.0858474</td><td style=\"text-align: right;\">0.263402</td><td style=\"text-align: right;\">0.0693806</td></tr>\n",
       "<tr><td>XRT_1_AutoML_2_20240726_92040                         </td><td style=\"text-align: right;\">0.962925</td><td style=\"text-align: right;\"> 0.278752</td><td style=\"text-align: right;\">0.94826 </td><td style=\"text-align: right;\">             0.0794961</td><td style=\"text-align: right;\">0.277905</td><td style=\"text-align: right;\">0.0772311</td></tr>\n",
       "<tr><td>GBM_grid_1_AutoML_2_20240726_92040_model_1            </td><td style=\"text-align: right;\">0.961575</td><td style=\"text-align: right;\"> 0.262234</td><td style=\"text-align: right;\">0.955955</td><td style=\"text-align: right;\">             0.0793109</td><td style=\"text-align: right;\">0.27502 </td><td style=\"text-align: right;\">0.0756362</td></tr>\n",
       "<tr><td>DRF_1_AutoML_2_20240726_92040                         </td><td style=\"text-align: right;\">0.961337</td><td style=\"text-align: right;\"> 0.371473</td><td style=\"text-align: right;\">0.935797</td><td style=\"text-align: right;\">             0.0727744</td><td style=\"text-align: right;\">0.271734</td><td style=\"text-align: right;\">0.0738394</td></tr>\n",
       "<tr><td>DeepLearning_grid_3_AutoML_2_20240726_92040_model_2   </td><td style=\"text-align: right;\">0.959776</td><td style=\"text-align: right;\"> 0.304552</td><td style=\"text-align: right;\">0.952766</td><td style=\"text-align: right;\">             0.089023 </td><td style=\"text-align: right;\">0.286893</td><td style=\"text-align: right;\">0.0823074</td></tr>\n",
       "<tr><td>DeepLearning_grid_1_AutoML_2_20240726_92040_model_1   </td><td style=\"text-align: right;\">0.958929</td><td style=\"text-align: right;\"> 0.273168</td><td style=\"text-align: right;\">0.954932</td><td style=\"text-align: right;\">             0.083598 </td><td style=\"text-align: right;\">0.285254</td><td style=\"text-align: right;\">0.0813699</td></tr>\n",
       "<tr><td>GBM_grid_1_AutoML_2_20240726_92040_model_4            </td><td style=\"text-align: right;\">0.955965</td><td style=\"text-align: right;\"> 0.279817</td><td style=\"text-align: right;\">0.937676</td><td style=\"text-align: right;\">             0.0826717</td><td style=\"text-align: right;\">0.282194</td><td style=\"text-align: right;\">0.0796337</td></tr>\n",
       "<tr><td>DeepLearning_grid_3_AutoML_2_20240726_92040_model_1   </td><td style=\"text-align: right;\">0.955859</td><td style=\"text-align: right;\"> 0.300104</td><td style=\"text-align: right;\">0.943619</td><td style=\"text-align: right;\">             0.0865883</td><td style=\"text-align: right;\">0.278546</td><td style=\"text-align: right;\">0.0775878</td></tr>\n",
       "<tr><td>DeepLearning_grid_2_AutoML_2_20240726_92040_model_1   </td><td style=\"text-align: right;\">0.950884</td><td style=\"text-align: right;\"> 0.324711</td><td style=\"text-align: right;\">0.939182</td><td style=\"text-align: right;\">             0.0938658</td><td style=\"text-align: right;\">0.29353 </td><td style=\"text-align: right;\">0.08616  </td></tr>\n",
       "<tr><td>DeepLearning_grid_2_AutoML_2_20240726_92040_model_2   </td><td style=\"text-align: right;\">0.945327</td><td style=\"text-align: right;\"> 0.312789</td><td style=\"text-align: right;\">0.943423</td><td style=\"text-align: right;\">             0.105986 </td><td style=\"text-align: right;\">0.306287</td><td style=\"text-align: right;\">0.0938116</td></tr>\n",
       "<tr><td>DeepLearning_grid_1_AutoML_2_20240726_92040_model_2   </td><td style=\"text-align: right;\">0.934688</td><td style=\"text-align: right;\"> 0.342322</td><td style=\"text-align: right;\">0.930223</td><td style=\"text-align: right;\">             0.136234 </td><td style=\"text-align: right;\">0.325913</td><td style=\"text-align: right;\">0.106219 </td></tr>\n",
       "<tr><td>DeepLearning_1_AutoML_2_20240726_92040                </td><td style=\"text-align: right;\">0.90923 </td><td style=\"text-align: right;\"> 0.383083</td><td style=\"text-align: right;\">0.904566</td><td style=\"text-align: right;\">             0.162168 </td><td style=\"text-align: right;\">0.349336</td><td style=\"text-align: right;\">0.122036 </td></tr>\n",
       "<tr><td>GBM_1_AutoML_2_20240726_92040                         </td><td style=\"text-align: right;\">0.832381</td><td style=\"text-align: right;\"> 0.536691</td><td style=\"text-align: right;\">0.830034</td><td style=\"text-align: right;\">             0.243543 </td><td style=\"text-align: right;\">0.423013</td><td style=\"text-align: right;\">0.17894  </td></tr>\n",
       "</tbody>\n",
       "</table><pre style='font-size: smaller; margin-bottom: 1em;'>[22 rows x 7 columns]</pre>"
      ],
      "text/plain": [
       "model_id                                                     auc    logloss     aucpr    mean_per_class_error      rmse        mse\n",
       "------------------------------------------------------  --------  ---------  --------  ----------------------  --------  ---------\n",
       "GBM_4_AutoML_2_20240726_92040                           0.976924   0.192053  0.973619               0.0617656  0.236095  0.0557409\n",
       "StackedEnsemble_BestOfFamily_1_AutoML_2_20240726_92040  0.9765     0.192089  0.972984               0.0584048  0.234459  0.0549712\n",
       "GBM_5_AutoML_2_20240726_92040                           0.976448   0.194165  0.973338               0.0692283  0.238489  0.0568772\n",
       "StackedEnsemble_AllModels_1_AutoML_2_20240726_92040     0.975124   0.200834  0.971997               0.0694136  0.244187  0.0596272\n",
       "GBM_grid_1_AutoML_2_20240726_92040_model_5              0.975124   0.201927  0.972457               0.0789404  0.245279  0.0601619\n",
       "GBM_2_AutoML_2_20240726_92040                           0.97306    0.206992  0.969616               0.0727744  0.244937  0.0599941\n",
       "GBM_3_AutoML_2_20240726_92040                           0.97306    0.205731  0.969072               0.0796814  0.246748  0.0608843\n",
       "GBM_grid_1_AutoML_2_20240726_92040_model_2              0.972584   0.204478  0.965924               0.0649413  0.242204  0.0586626\n",
       "GBM_grid_1_AutoML_2_20240726_92040_model_3              0.967079   0.234733  0.963294               0.0752091  0.260505  0.0678629\n",
       "GLM_1_AutoML_2_20240726_92040                           0.963745   0.24765   0.948011               0.0858474  0.263402  0.0693806\n",
       "XRT_1_AutoML_2_20240726_92040                           0.962925   0.278752  0.94826                0.0794961  0.277905  0.0772311\n",
       "GBM_grid_1_AutoML_2_20240726_92040_model_1              0.961575   0.262234  0.955955               0.0793109  0.27502   0.0756362\n",
       "DRF_1_AutoML_2_20240726_92040                           0.961337   0.371473  0.935797               0.0727744  0.271734  0.0738394\n",
       "DeepLearning_grid_3_AutoML_2_20240726_92040_model_2     0.959776   0.304552  0.952766               0.089023   0.286893  0.0823074\n",
       "DeepLearning_grid_1_AutoML_2_20240726_92040_model_1     0.958929   0.273168  0.954932               0.083598   0.285254  0.0813699\n",
       "GBM_grid_1_AutoML_2_20240726_92040_model_4              0.955965   0.279817  0.937676               0.0826717  0.282194  0.0796337\n",
       "DeepLearning_grid_3_AutoML_2_20240726_92040_model_1     0.955859   0.300104  0.943619               0.0865883  0.278546  0.0775878\n",
       "DeepLearning_grid_2_AutoML_2_20240726_92040_model_1     0.950884   0.324711  0.939182               0.0938658  0.29353   0.08616\n",
       "DeepLearning_grid_2_AutoML_2_20240726_92040_model_2     0.945327   0.312789  0.943423               0.105986   0.306287  0.0938116\n",
       "DeepLearning_grid_1_AutoML_2_20240726_92040_model_2     0.934688   0.342322  0.930223               0.136234   0.325913  0.106219\n",
       "DeepLearning_1_AutoML_2_20240726_92040                  0.90923    0.383083  0.904566               0.162168   0.349336  0.122036\n",
       "GBM_1_AutoML_2_20240726_92040                           0.832381   0.536691  0.830034               0.243543   0.423013  0.17894\n",
       "[22 rows x 7 columns]\n"
      ]
     },
     "execution_count": 69,
     "metadata": {},
     "output_type": "execute_result"
    }
   ],
   "source": [
    "# Run AutoML for 20 base models\n",
    "aml = H2OAutoML(max_models=5, seed=1)\n",
    "aml.train(x=x, y=y, training_frame=train)\n",
    "\n",
    "# View the AutoML Leaderboard\n",
    "lb = aml.leaderboard\n",
    "lb.head(rows=lb.nrows)  # Print all rows instead of default (10 rows)"
   ]
  },
  {
   "cell_type": "code",
   "execution_count": 76,
   "metadata": {},
   "outputs": [
    {
     "name": "stderr",
     "output_type": "stream",
     "text": [
      "c:\\Users\\User\\anaconda3\\envs\\h2o\\lib\\site-packages\\h2o\\frame.py:1981: H2ODependencyWarning: Converting H2O frame to pandas dataframe using single-thread.  For faster conversion using multi-thread, install polars and pyarrow and use it as pandas_df = h2o_df.as_data_frame(use_multi_thread=True)\n",
      "\n",
      "  warnings.warn(\"Converting H2O frame to pandas dataframe using single-thread.  For faster conversion using\"\n"
     ]
    },
    {
     "data": {
      "text/html": [
       "<div>\n",
       "<style scoped>\n",
       "    .dataframe tbody tr th:only-of-type {\n",
       "        vertical-align: middle;\n",
       "    }\n",
       "\n",
       "    .dataframe tbody tr th {\n",
       "        vertical-align: top;\n",
       "    }\n",
       "\n",
       "    .dataframe thead th {\n",
       "        text-align: right;\n",
       "    }\n",
       "</style>\n",
       "<table border=\"1\" class=\"dataframe\">\n",
       "  <thead>\n",
       "    <tr style=\"text-align: right;\">\n",
       "      <th></th>\n",
       "      <th>key</th>\n",
       "    </tr>\n",
       "  </thead>\n",
       "  <tbody>\n",
       "  </tbody>\n",
       "</table>\n",
       "</div>"
      ],
      "text/plain": [
       "Empty DataFrame\n",
       "Columns: [key]\n",
       "Index: []"
      ]
     },
     "execution_count": 76,
     "metadata": {},
     "output_type": "execute_result"
    }
   ],
   "source": [
    "# List items available in H2O\n",
    "h2o.ls()"
   ]
  },
  {
   "cell_type": "markdown",
   "metadata": {},
   "source": [
    "## Shut down server\n",
    "Remmeber to shut down the server at the end of the session. Note that `h2o.init()` checks whether a server is already running. The shutdown method can also be used to kill the server in case of runtime issues or to interrupt a process."
   ]
  },
  {
   "cell_type": "code",
   "execution_count": 71,
   "metadata": {},
   "outputs": [
    {
     "name": "stdout",
     "output_type": "stream",
     "text": [
      "H2O session _sid_b33b closed.\n"
     ]
    },
    {
     "name": "stderr",
     "output_type": "stream",
     "text": [
      "C:\\Users\\User\\AppData\\Local\\Temp\\ipykernel_30268\\3174702283.py:2: H2ODeprecationWarning: Deprecated, use ``h2o.cluster().shutdown()``.\n",
      "  h2o.shutdown(prompt=False)\n"
     ]
    }
   ],
   "source": [
    "# Shutdown the H2O server\n",
    "h2o.shutdown(prompt=False)"
   ]
  }
 ],
 "metadata": {
  "kernelspec": {
   "display_name": "dev",
   "language": "python",
   "name": "python3"
  },
  "language_info": {
   "codemirror_mode": {
    "name": "ipython",
    "version": 3
   },
   "file_extension": ".py",
   "mimetype": "text/x-python",
   "name": "python",
   "nbconvert_exporter": "python",
   "pygments_lexer": "ipython3",
   "version": "3.10.13"
  }
 },
 "nbformat": 4,
 "nbformat_minor": 2
}
